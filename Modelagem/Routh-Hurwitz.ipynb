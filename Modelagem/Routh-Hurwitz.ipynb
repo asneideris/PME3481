{
 "cells": [
  {
   "cell_type": "code",
   "execution_count": 1,
   "id": "5d464bb0",
   "metadata": {},
   "outputs": [],
   "source": [
    "import sympy as sp\n",
    "import numpy as np\n",
    "import control as ctr\n",
    "from tbcontrol.symbolic import routh"
   ]
  },
  {
   "cell_type": "code",
   "execution_count": 5,
   "id": "14b3b233",
   "metadata": {},
   "outputs": [
    {
     "data": {
      "text/plain": [
       "(Matrix([\n",
       " [0.0,    0.0,    0.0, 1.0,   0.0,    0.0],\n",
       " [0.0,    0.0,    0.0, 0.0,   1.0,    0.0],\n",
       " [0.0,    0.0,    0.0, 0.0,   0.0,    1.0],\n",
       " [0.0, -7.358,  0.788, 0.0, 0.293, -0.143],\n",
       " [0.0, 73.575, -33.11, 0.0, -3.66,   2.16],\n",
       " [0.0, -58.86, 51.152, 0.0, 3.643, -2.443]]),\n",
       " Matrix([\n",
       " [  0.0,   0.0,     0],\n",
       " [  0.0,   0.0,     0],\n",
       " [  0.0,   0.0,     0],\n",
       " [0.607, 1.786, 0.286],\n",
       " [ -1.5, -27.0,   -12],\n",
       " [ 0.29, 30.54, 18.54]]),\n",
       " Matrix([\n",
       " [1.0, 0.0, 0.0, 0.0, 0.0, 0.0],\n",
       " [0.0, 1.0, 0.0, 0.0, 0.0, 0.0],\n",
       " [0.0, 0.0, 1.0, 0.0, 0.0, 0.0]]),\n",
       " Matrix([\n",
       " [0.0, 0.0, 0],\n",
       " [0.0, 0.0, 0],\n",
       " [0.0, 0.0, 0]]))"
      ]
     },
     "execution_count": 5,
     "metadata": {},
     "output_type": "execute_result"
    }
   ],
   "source": [
    "#Matrizes\n",
    "A = sp.Matrix([[  0.        ,   0.        ,   0.        ,   1.        ,  0.        ,   0.        ],\n",
    "      [  0.        ,   0.        ,   0.        ,   0.        , 1.        ,   0.        ],\n",
    "      [  0.        ,   0.        ,   0.        ,   0.        , 0.        ,   1.        ],\n",
    "      [  0.        ,  -7.358    ,   0.788,   0.        , 0.293,  -0.143],\n",
    "      [  0.        ,  73.575     , -33.11   ,   0.        ,  -3.66      ,   2.16      ],\n",
    "      [  0.        , -58.86      ,  51.152,   0.        , 3.643 ,  -2.443 ]])\n",
    "\n",
    "B = sp.Matrix([[  0.        ,   0.   ,0     ],\n",
    "       [  0.        ,   0.      ,0  ],\n",
    "       [  0.        ,   0.      ,0  ],\n",
    "       [  0.607,   1.786, 0.286],\n",
    "       [ -1.5       , -27.   ,-12     ],\n",
    "       [  0.29,  30.54, 18.54]])\n",
    "\n",
    "C = sp.Matrix([[1., 0., 0., 0., 0., 0.],\n",
    "       [0., 1., 0., 0., 0., 0.],\n",
    "       [0., 0., 1., 0., 0., 0.]])\n",
    "\n",
    "D = sp.Matrix([[0., 0.,0],\n",
    "       [0., 0.,0],\n",
    "       [0., 0.,0]])\n",
    "\n",
    "A, B, C, D"
   ]
  },
  {
   "cell_type": "code",
   "execution_count": null,
   "id": "ebe802aa",
   "metadata": {},
   "outputs": [
    {
     "data": {
      "text/plain": [
       "<bound method Poly.as_poly of PurePoly(1.0*s**6 + 6.103*s**5 - 123.6545*s**4 - 119.202715*s**3 + 1814.6538*s**2, s, domain='RR')>"
      ]
     },
     "execution_count": 6,
     "metadata": {},
     "output_type": "execute_result"
    }
   ],
   "source": [
    "s = sp.var('s')\n",
    "pc = A.charpoly(s)\n",
    "pc.as_poly"
   ]
  },
  {
   "cell_type": "code",
   "execution_count": 7,
   "id": "ed53bedb",
   "metadata": {},
   "outputs": [
    {
     "data": {
      "text/latex": [
       "$\\displaystyle \\left[\\begin{matrix}1.0 & -123.6545 & 1814.6538 & 0\\\\6.103 & -119.202715 & 0 & 0\\\\-104.122677126004 & 1814.6538 & 0 & 0\\\\-12.839409262117 & 0 & 0 & 0\\\\1814.6538 & 0 & 0 & 0\\\\0 & 0 & 0 & 0\\\\\\text{NaN} & \\text{NaN} & \\text{NaN} & 0\\end{matrix}\\right]$"
      ],
      "text/plain": [
       "Matrix([\n",
       "[              1.0,   -123.6545, 1814.6538, 0],\n",
       "[            6.103, -119.202715,         0, 0],\n",
       "[-104.122677126004,   1814.6538,         0, 0],\n",
       "[ -12.839409262117,           0,         0, 0],\n",
       "[        1814.6538,           0,         0, 0],\n",
       "[                0,           0,         0, 0],\n",
       "[              nan,         nan,       nan, 0]])"
      ]
     },
     "execution_count": 7,
     "metadata": {},
     "output_type": "execute_result"
    }
   ],
   "source": [
    "rh = routh(pc)\n",
    "rh"
   ]
  }
 ],
 "metadata": {
  "kernelspec": {
   "display_name": "Python 3",
   "language": "python",
   "name": "python3"
  },
  "language_info": {
   "codemirror_mode": {
    "name": "ipython",
    "version": 3
   },
   "file_extension": ".py",
   "mimetype": "text/x-python",
   "name": "python",
   "nbconvert_exporter": "python",
   "pygments_lexer": "ipython3",
   "version": "3.12.10"
  }
 },
 "nbformat": 4,
 "nbformat_minor": 5
}
